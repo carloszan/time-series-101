{
 "cells": [
  {
   "cell_type": "markdown",
   "id": "17f0006f",
   "metadata": {},
   "source": [
    "# Análise de series temporais\n",
    "\n",
    "Dados de series temporais assumem cada vez mais importancia com a era da internet das coisas (IoT), da digitalizacao de sistemas de hospitais e das cidades inteligentes. Podemos esperar que dados dessa forma crescam exponencialmente com mais qualidade, quantidade e revelencia. \n",
    "Por esse motivo, cria-se uma demanda para o estudo e analise de dados de series temporais.\n"
   ]
  },
  {
   "cell_type": "markdown",
   "id": "bdf61e74",
   "metadata": {},
   "source": [
    "# Motivação e Importância\n",
    "\n",
    "As séries temporais são um campo fascinante e em constante evolução da análise de dados.\n",
    "\n",
    "Ao estudar séries temporais, é possível explorar conceitos complexos, como autocorrelação, estacionariedade, sazonalidade e modelos preditivos. Além disso, há uma grande variedade de técnicas disponíveis para análise de séries temporais, como ARIMA, modelos de suavização exponencial, redes neurais, entre outros."
   ]
  },
  {
   "cell_type": "markdown",
   "id": "66d5bc57-e9e5-4402-8f6e-e9674596e1ed",
   "metadata": {},
   "source": [
    "# Objetivos\n",
    "\n",
    "O objetivo deste trabalho é entender e aplicar técnicas de análise e modelagem para prever comportamentos futuros de uma série temporal de interesse. Para isso, serão explorados conceitos como autocorrelação, estacionariedade, sazonalidade e modelos preditivos, a fim de obter uma compreensão mais profunda dos dados."
   ]
  },
  {
   "cell_type": "markdown",
   "id": "ff302dd2-e275-41d1-99d4-99646f6be97f",
   "metadata": {},
   "source": [
    "# Revisão Bibliografica\n",
    "\n",
    "## Datasets\n",
    "\n",
    "- https://archive-beta.ics.uci.edu/dataset/235/individual+household+electric+power+consumption\n",
    "\n",
    "## Tutoriais\n",
    "\n",
    "- https://youtu.be/vV12dGe_Fho\n",
    "- https://youtu.be/z3ZnOW-S550\n",
    "- https://youtu.be/xi0vhXFPegw\n",
    "\n",
    "## Artigos\n",
    "\n",
    "- https://arxiv.org/pdf/2004.13408.pdf\n",
    "- https://arxiv.org/pdf/2205.13504v3.pdf"
   ]
  },
  {
   "cell_type": "markdown",
   "id": "698fe29c-7e52-4d58-9e52-dfe8b5395ca1",
   "metadata": {
    "tags": []
   },
   "source": [
    "# Prerequisitos\n",
    "\n",
    "Extrair o .zip que se encontra dentro da pasta data."
   ]
  },
  {
   "cell_type": "code",
   "execution_count": 8,
   "id": "9dc1ea6a-6128-4990-99a4-27dd51298ea1",
   "metadata": {},
   "outputs": [
    {
     "name": "stdout",
     "output_type": "stream",
     "text": [
      "Archive:  data/household_power_consumption.zip\n",
      "  inflating: data/household_power_consumption.txt  \n"
     ]
    }
   ],
   "source": [
    "! unzip data/household_power_consumption.zip -d data/"
   ]
  },
  {
   "cell_type": "markdown",
   "id": "e55de4aa-0628-49ea-aa89-4102d2f8afee",
   "metadata": {},
   "source": [
    "# Base de dados\n",
    "\n",
    "Essa base de dados contem 2075259 medidas coletadas em uma casa na cidade de Sceaux (7km de Paris) entre Dezembro de 2006 e Novembro de 2010."
   ]
  },
  {
   "cell_type": "code",
   "execution_count": 11,
   "id": "8ffe9258-09cc-4855-ad4e-7bb7ee2e7b8b",
   "metadata": {},
   "outputs": [],
   "source": [
    "import pandas as pd\n",
    "import numpy as np"
   ]
  },
  {
   "cell_type": "code",
   "execution_count": 12,
   "id": "8c4ea4dd-0173-483f-8cf0-73788a88e0cc",
   "metadata": {},
   "outputs": [
    {
     "ename": "ValueError",
     "evalue": "DataFrame constructor not properly called!",
     "output_type": "error",
     "traceback": [
      "\u001b[0;31m---------------------------------------------------------------------------\u001b[0m",
      "\u001b[0;31mValueError\u001b[0m                                Traceback (most recent call last)",
      "Input \u001b[0;32mIn [12]\u001b[0m, in \u001b[0;36m<cell line: 3>\u001b[0;34m()\u001b[0m\n\u001b[1;32m      1\u001b[0m FILE_PATH \u001b[38;5;241m=\u001b[39m \u001b[38;5;124m'\u001b[39m\u001b[38;5;124mdata/household_power_consumption.txt\u001b[39m\u001b[38;5;124m'\u001b[39m\n\u001b[0;32m----> 3\u001b[0m df \u001b[38;5;241m=\u001b[39m \u001b[43mpd\u001b[49m\u001b[38;5;241;43m.\u001b[39;49m\u001b[43mDataFrame\u001b[49m\u001b[43m(\u001b[49m\u001b[43mFILE_PATH\u001b[49m\u001b[43m)\u001b[49m\n\u001b[1;32m      5\u001b[0m df\n",
      "File \u001b[0;32m~/opt/anaconda3/lib/python3.9/site-packages/pandas/core/frame.py:756\u001b[0m, in \u001b[0;36mDataFrame.__init__\u001b[0;34m(self, data, index, columns, dtype, copy)\u001b[0m\n\u001b[1;32m    753\u001b[0m \u001b[38;5;66;03m# For data is scalar\u001b[39;00m\n\u001b[1;32m    754\u001b[0m \u001b[38;5;28;01melse\u001b[39;00m:\n\u001b[1;32m    755\u001b[0m     \u001b[38;5;28;01mif\u001b[39;00m index \u001b[38;5;129;01mis\u001b[39;00m \u001b[38;5;28;01mNone\u001b[39;00m \u001b[38;5;129;01mor\u001b[39;00m columns \u001b[38;5;129;01mis\u001b[39;00m \u001b[38;5;28;01mNone\u001b[39;00m:\n\u001b[0;32m--> 756\u001b[0m         \u001b[38;5;28;01mraise\u001b[39;00m \u001b[38;5;167;01mValueError\u001b[39;00m(\u001b[38;5;124m\"\u001b[39m\u001b[38;5;124mDataFrame constructor not properly called!\u001b[39m\u001b[38;5;124m\"\u001b[39m)\n\u001b[1;32m    758\u001b[0m     \u001b[38;5;66;03m# Argument 1 to \"ensure_index\" has incompatible type \"Collection[Any]\";\u001b[39;00m\n\u001b[1;32m    759\u001b[0m     \u001b[38;5;66;03m# expected \"Union[Union[Union[ExtensionArray, ndarray],\u001b[39;00m\n\u001b[1;32m    760\u001b[0m     \u001b[38;5;66;03m# Index, Series], Sequence[Any]]\"\u001b[39;00m\n\u001b[1;32m    761\u001b[0m     index \u001b[38;5;241m=\u001b[39m ensure_index(index)  \u001b[38;5;66;03m# type: ignore[arg-type]\u001b[39;00m\n",
      "\u001b[0;31mValueError\u001b[0m: DataFrame constructor not properly called!"
     ]
    }
   ],
   "source": [
    "FILE_PATH = 'data/household_power_consumption.txt'\n",
    "\n",
    "df = pd.read_(FILE_PATH)\n",
    "\n",
    "df"
   ]
  },
  {
   "cell_type": "code",
   "execution_count": null,
   "id": "81a8dbc6-d435-41ab-ac08-050687b3695f",
   "metadata": {},
   "outputs": [],
   "source": []
  }
 ],
 "metadata": {
  "kernelspec": {
   "display_name": "Python 3 (ipykernel)",
   "language": "python",
   "name": "python3"
  },
  "language_info": {
   "codemirror_mode": {
    "name": "ipython",
    "version": 3
   },
   "file_extension": ".py",
   "mimetype": "text/x-python",
   "name": "python",
   "nbconvert_exporter": "python",
   "pygments_lexer": "ipython3",
   "version": "3.9.12"
  }
 },
 "nbformat": 4,
 "nbformat_minor": 5
}
